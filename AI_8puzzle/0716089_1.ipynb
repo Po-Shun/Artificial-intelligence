{
  "nbformat": 4,
  "nbformat_minor": 0,
  "metadata": {
    "colab": {
      "name": "0000000_1.ipynb",
      "provenance": [],
      "collapsed_sections": [],
      "toc_visible": true
    },
    "kernelspec": {
      "name": "python3",
      "display_name": "Python 3"
    }
  },
  "cells": [
    {
      "cell_type": "markdown",
      "metadata": {
        "id": "phl4Y2-kWRwN"
      },
      "source": [
        "# Artificial Intelligence - Assignment 1\n",
        "\n",
        "## 1. Description\n",
        "\n",
        "In this assignment, you are going to solve the 8-puzzle using any algorithm. The `EightPuzzle` class is written and provided by TAs, you don't need to implement the puzzle yourself, just import and use.\n",
        "\n",
        "## 2. How to use `EightPuzzle`\n",
        "\n",
        "```python\n",
        "from eight_puzzle import EightPuzzle # import\n",
        "\n",
        "puzzle = EightPuzzle()\n",
        "\n",
        "puzzle.init()     # initialize a solvable puzzle state\n",
        "puzzle.init(seed) # initialize a solvable puzzle state using a seed\n",
        "print(puzzle)     # show current puzzle state\n",
        "\n",
        "# move\n",
        "puzzle.move('up')\n",
        "puzzle.move('down')\n",
        "puzzle.move('left')\n",
        "puzzle.move('right')\n",
        "\n",
        "if puzzle.state == puzzle.FINAL_STATE:\n",
        "  print('You have solved the puzzle')\n",
        "\n",
        "# Useful: get the next state after you move in a direction,\n",
        "# this won't change the internal state of EightPuzzle.\n",
        "state_after_move_up = puzzle.get_state_after_move(current_state, 'up')\n",
        "\n",
        "```\n",
        "\n"
      ]
    },
    {
      "cell_type": "code",
      "metadata": {
        "id": "402LsZPhUmgl",
        "colab": {
          "base_uri": "https://localhost:8080/"
        },
        "outputId": "91a9d1fb-7dea-40f3-b10d-d4dcc1aea9b0"
      },
      "source": [
        "# NOTE: PLEASE KEEP THIS CELL AND DO NOT MODIFY!\n",
        "\n",
        "# download eight_puzzle.py (YOU SHOULD NOT MODIFY eight_puzzle.py)\n",
        "!wget https://lab.djosix.com/eight_puzzle.py -qO eight_puzzle.py\n",
        "!sha1sum eight_puzzle.py\n",
        "\n",
        "from eight_puzzle import EightPuzzle, test"
      ],
      "execution_count": 4,
      "outputs": [
        {
          "output_type": "stream",
          "text": [
            "cea1d62ff26ac1db4b66aea0ac935b8daa0d2422  eight_puzzle.py\n"
          ],
          "name": "stdout"
        }
      ]
    },
    {
      "cell_type": "markdown",
      "metadata": {
        "id": "yCDHjleOb9Fd"
      },
      "source": [
        "## 3. Implement a search algorithm to solve 8-puzzle"
      ]
    },
    {
      "cell_type": "code",
      "metadata": {
        "id": "_OuRn868WNW0"
      },
      "source": [
        "def solve(p):\n",
        "    class node:\n",
        "        def __init__(self,state,parent=None,step=None,fval=0,level=0):\n",
        "            self.state  = state\n",
        "            self.parent = parent\n",
        "            self.step = step\n",
        "            self.level = level\n",
        "            self.fval = self.calculate_fval(p.FINAL_STATE)\n",
        "        # explore func is used to expand the current state \n",
        "        def explore(self):\n",
        "            children = []\n",
        "            U = p.get_state_after_move(self.state,\"up\")\n",
        "            D = p.get_state_after_move(self.state,\"down\")\n",
        "            L = p.get_state_after_move(self.state,\"left\")\n",
        "            R = p.get_state_after_move(self.state,\"right\")\n",
        "            if U is not None:\n",
        "                child_node0 = node(U,self,\"up\",0,self.level+1)\n",
        "                children.append(child_node0)\n",
        "            if D is not None:\n",
        "                child_node1 = node(D,self,\"down\",0,self.level+1)\n",
        "                children.append(child_node1)\n",
        "            if L is not None:\n",
        "                child_node2 = node(L,self,\"left\",0,self.level+1)\n",
        "                children.append(child_node2)\n",
        "            if R is not None:\n",
        "                child_node3 = node(R,self,\"right\",0,self.level+1)\n",
        "                children.append(child_node3)\n",
        "            \n",
        "            return children\n",
        "        def calculate_huristic(self,final):\n",
        "          temp = 0\n",
        "          idx = 0\n",
        "          for i in self.state:\n",
        "            if (i-1)!=idx and i!=0:\n",
        "              x=abs((i-1)%3-idx%3)\n",
        "              y=abs((i-1)//3-idx//3)\n",
        "              temp += (x+y)\n",
        "            idx += 1\n",
        "          return temp\n",
        "        def calculate_fval(self,final):\n",
        "          return self.calculate_huristic(final)+self.level\n",
        "    \n",
        "        \n",
        "    \n",
        "    \n",
        "    def find(now,arr):\n",
        "      for i in range(len(arr)):\n",
        "        if now.state == arr[i].state:\n",
        "          return i\n",
        "      return -1\n",
        "\n",
        "    root = node(p.state,None,None,0,0)\n",
        "    open1 = []\n",
        "    closed = []\n",
        "    open1.append(root)\n",
        "    while True:\n",
        "        # idx =0\n",
        "        # min = open1[0]\n",
        "        # for i in range(len(open1)):\n",
        "        #   if open1[i].fval<min.fval:\n",
        "        #     min = open1[i]\n",
        "        #     idx = i\n",
        "        current_node  = open1[0]\n",
        "        closed.append(current_node)\n",
        "        # del open1[idx]\n",
        "        if(current_node.calculate_huristic(p.FINAL_STATE)==0):\n",
        "            break\n",
        "        for child in current_node.explore():\n",
        "          if find(child,closed)!=-1:\n",
        "            continue\n",
        "          temp=find(child,open1)\n",
        "          if temp!=-1:\n",
        "            if child.fval < open1[temp].fval:\n",
        "              open1[temp] = child\n",
        "              continue\n",
        "          open1.append(child)\n",
        "        del open1[0]\n",
        "        open1 =  sorted(open1, key=lambda p: p.fval)\n",
        "        # closed.append(current_node)\n",
        "        # del open1[0]\n",
        "        # open.sort(key = lambda x:x.fval,reverse =False)\n",
        "        \n",
        "    \n",
        "    trace_back = open1[0]\n",
        "    ans_r = []\n",
        "    while True:\n",
        "        ans_r.append(trace_back.step)\n",
        "        # ans_r.insert(0,trace_back.step)\n",
        "        #print(trace_back.state)\n",
        "        trace_back = trace_back.parent\n",
        "        if trace_back.state == p.state:\n",
        "          #print(trace_back.state)\n",
        "          break\n",
        "    ans_r.reverse()\n",
        "    return ans_r"
      ],
      "execution_count": 5,
      "outputs": []
    },
    {
      "cell_type": "markdown",
      "metadata": {
        "id": "MPBYw09wWPSL"
      },
      "source": [
        "## 4. Test your algorithm"
      ]
    },
    {
      "cell_type": "code",
      "metadata": {
        "id": "567OKKy0psOR",
        "colab": {
          "base_uri": "https://localhost:8080/"
        },
        "outputId": "a154c481-8abe-4e8f-b7ec-178ee7683c4b"
      },
      "source": [
        "# NOTE: PLEASE KEEP THIS CELL AND DO NOT MODIFY!\n",
        "\n",
        "results = test(solve, seed=123, n=10)"
      ],
      "execution_count": 6,
      "outputs": [
        {
          "output_type": "stream",
          "text": [
            "Running tests with seed: 123\n",
            "Test | seed: 55260453 | puzzle: (8, 6, 2, 5, 7, 0, 3, 1, 4) | elapsed: 0.7107s | solved\n",
            "Test | seed: 85291046 | puzzle: (2, 3, 4, 7, 0, 6, 1, 5, 8) | elapsed: 0.0535s | solved\n",
            "Test | seed: 54801393 | puzzle: (8, 2, 1, 3, 7, 6, 5, 4, 0) | elapsed: 7.0442s | solved\n",
            "Test | seed: 42905268 | puzzle: (4, 2, 1, 6, 5, 8, 7, 0, 3) | elapsed: 0.3356s | solved\n",
            "Test | seed: 31981756 | puzzle: (6, 2, 4, 3, 5, 8, 1, 0, 7) | elapsed: 0.0539s | solved\n",
            "Test | seed: 10224217 | puzzle: (5, 3, 4, 0, 8, 6, 2, 7, 1) | elapsed: 3.0986s | solved\n",
            "Test | seed: 68555945 | puzzle: (2, 4, 0, 6, 8, 3, 1, 7, 5) | elapsed: 0.0049s | solved\n",
            "Test | seed: 21759284 | puzzle: (3, 5, 4, 6, 1, 7, 2, 8, 0) | elapsed: 3.6837s | solved\n",
            "Test | seed: 90208442 | puzzle: (8, 7, 6, 3, 4, 0, 2, 5, 1) | elapsed: 4.8313s | solved\n",
            "Test | seed: 60679913 | puzzle: (6, 3, 2, 7, 4, 5, 8, 1, 0) | elapsed: 1.7291s | solved\n",
            "===> Solved: 10/10\n",
            "===> Average elapsed time: 2.1546s\n"
          ],
          "name": "stdout"
        }
      ]
    },
    {
      "cell_type": "markdown",
      "metadata": {
        "id": "zIHyo9QW7S7o"
      },
      "source": [
        "## 5. Submitting your assignment\n",
        "\n",
        "\n",
        "1. You have to save 2 files:\n",
        "  \n",
        "  - Click \"File\" > \"Download .ipynb\" to download `XXXXXXX_1.ipynb`\n",
        "  - Click \"File\" > \"Download .py\" to download `XXXXXXX_1.py`\n",
        "  \n",
        "  where `XXXXXXX` is your student ID.  \n",
        "\n",
        "2. Compress these 2 files into a `.zip` file named `XXXXXXX_1.zip`.\n",
        "\n",
        "3. Upload the zip file to E3.\n",
        "\n",
        "> **NOTE: You should click \"Runtime\" > \"Restart and run all\" before submitting to E3 to check if your program is able to run without any exception.**"
      ]
    }
  ]
}